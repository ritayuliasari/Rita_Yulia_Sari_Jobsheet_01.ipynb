{
  "nbformat": 4,
  "nbformat_minor": 0,
  "metadata": {
    "colab": {
      "provenance": [],
      "authorship_tag": "ABX9TyOtfzS2/slbYEN8sABmJRor",
      "include_colab_link": true
    },
    "kernelspec": {
      "name": "python3",
      "display_name": "Python 3"
    },
    "language_info": {
      "name": "python"
    }
  },
  "cells": [
    {
      "cell_type": "markdown",
      "metadata": {
        "id": "view-in-github",
        "colab_type": "text"
      },
      "source": [
        "<a href=\"https://colab.research.google.com/github/ritayuliasari/Rita_Yulia_Sari_Jobsheet_01.ipynb/blob/main/Rita_jobsheet_01.ipynb\" target=\"_parent\"><img src=\"https://colab.research.google.com/assets/colab-badge.svg\" alt=\"Open In Colab\"/></a>"
      ]
    },
    {
      "cell_type": "markdown",
      "source": [
        "Praktikum 01. Menghitung Luas Persegi Panjang"
      ],
      "metadata": {
        "id": "JpOXQPtawitG"
      }
    },
    {
      "cell_type": "code",
      "source": [
        "p = int(input(\"Masukkan panjang: \"))\n",
        "l = int(input(\"Masukkan lebar: \"))\n",
        "luas = p * l\n",
        "print(\"Luas persegi panjang =\", luas )"
      ],
      "metadata": {
        "colab": {
          "base_uri": "https://localhost:8080/"
        },
        "id": "s50-goyITPjJ",
        "outputId": "d780f2bd-466d-4512-dcef-e84ebc8f40b5"
      },
      "execution_count": null,
      "outputs": [
        {
          "output_type": "stream",
          "name": "stdout",
          "text": [
            "Masukkan panjang: 4\n",
            "Masukkan lebar: 3\n",
            "Luas persegi panjang = 12\n"
          ]
        }
      ]
    },
    {
      "cell_type": "markdown",
      "source": [
        "Praktikum 02. Menghitung Luas Segitiga"
      ],
      "metadata": {
        "id": "xOK0aA4DWJT8"
      }
    },
    {
      "cell_type": "code",
      "source": [
        "import math\n",
        "\n",
        "a = float(input(\"Masukkan sisi a: \"))\n",
        "b = float(input(\"Masukkan sisi b: \"))\n",
        "c = float(input(\"Masukkan sisi c: \"))\n",
        "\n",
        "s = (a+b+c) / 2\n",
        "luas = math.sqrt(s * (s-a) * (s-b) * (s-c))\n",
        "print(\"Luas segitiga =\", luas)"
      ],
      "metadata": {
        "colab": {
          "base_uri": "https://localhost:8080/"
        },
        "id": "MusUJc1dT9l7",
        "outputId": "2eb0d54c-0c1e-42a1-fd3a-e9d9b642b840"
      },
      "execution_count": null,
      "outputs": [
        {
          "output_type": "stream",
          "name": "stdout",
          "text": [
            "Masukkan sisi a: 4\n",
            "Masukkan sisi b: 6\n",
            "Masukkan sisi c: 4\n",
            "Luas segitiga = 7.937253933193772\n"
          ]
        }
      ]
    },
    {
      "cell_type": "markdown",
      "source": [
        "Praktikkum 03. Konversi Suhu Celicius ke Fahrenheit"
      ],
      "metadata": {
        "id": "SxKvySgBWmaG"
      }
    },
    {
      "cell_type": "code",
      "source": [
        "c = float(input(\"Masukkan suhu (C): \"))\n",
        "f = (c * 9/5) +32\n",
        "print(\"Hasil konversi =\", f, \"F\")"
      ],
      "metadata": {
        "colab": {
          "base_uri": "https://localhost:8080/"
        },
        "id": "9Jh89toFW4mq",
        "outputId": "369599fe-285c-4431-fe23-822f6b46bb03"
      },
      "execution_count": null,
      "outputs": [
        {
          "output_type": "stream",
          "name": "stdout",
          "text": [
            "Masukkan suhu (C): 76\n",
            "Hasil konversi = 168.8 F\n"
          ]
        }
      ]
    },
    {
      "cell_type": "markdown",
      "source": [
        "Praktikum 04. Menghitung Umur berdasarkan Tahun Lahir"
      ],
      "metadata": {
        "id": "LbG7FJmSuy8B"
      }
    },
    {
      "cell_type": "code",
      "source": [
        "tahun_lahir = int(input(\"Masukkan tahun lahir: \"))\n",
        "tahun_sekarang = int(input(\"Masukkan tahun sekarang:\"))\n",
        "umur = tahun_sekarang - tahun_lahir\n",
        "print(\"Umur anda =\", umur, \"tahun\")"
      ],
      "metadata": {
        "colab": {
          "base_uri": "https://localhost:8080/"
        },
        "id": "NkB6Y7n8vHa0",
        "outputId": "3f5eec49-7ceb-4053-b243-bf4517df1fa4"
      },
      "execution_count": null,
      "outputs": [
        {
          "output_type": "stream",
          "name": "stdout",
          "text": [
            "Masukkan tahun lahir: 2007\n",
            "Masukkan tahun sekarang:2025\n",
            "Umur anda = 18 tahun\n"
          ]
        }
      ]
    },
    {
      "cell_type": "markdown",
      "source": [
        "Praktikum 05. Menghitung luas lingkaran"
      ],
      "metadata": {
        "id": "1nf0LKt-wEYT"
      }
    },
    {
      "cell_type": "code",
      "source": [
        "import math\n",
        "r = float(input(\"Masukkan jari-jari: \"))\n",
        "luas = math.pi * r * r\n",
        "print(\"Luas lingkaran =\", luas)"
      ],
      "metadata": {
        "colab": {
          "base_uri": "https://localhost:8080/"
        },
        "id": "FKUcbXnNwLzg",
        "outputId": "a990800e-f1b9-4514-f445-edb7131fc337"
      },
      "execution_count": null,
      "outputs": [
        {
          "output_type": "stream",
          "name": "stdout",
          "text": [
            "Masukkan jari-jari: 14\n",
            "Luas lingkaran = 615.7521601035994\n"
          ]
        }
      ]
    },
    {
      "cell_type": "markdown",
      "source": [
        "Praktikum 06. Menghitung Umur Berdasarakan Tahun Lahir"
      ],
      "metadata": {
        "id": "wP2L3_qUwU6S"
      }
    },
    {
      "cell_type": "code",
      "source": [
        "a = int (input(\"Masukkan bilangan pertama: \"))\n",
        "b = int (input(\"Masukkan bilangan kedua: \"))\n",
        "c = int (input(\"Masukkan bilangan ketiga: \"))\n",
        "jumlah = a + b + c\n",
        "print(\"Jumlah =\", jumlah)"
      ],
      "metadata": {
        "colab": {
          "base_uri": "https://localhost:8080/"
        },
        "id": "Bs42pHecweJt",
        "outputId": "5ca2c470-50ff-4d1a-a8b5-43802147046f"
      },
      "execution_count": null,
      "outputs": [
        {
          "output_type": "stream",
          "name": "stdout",
          "text": [
            "Masukkan bilangan pertama: 3\n",
            "Masukkan bilangan kedua: 6\n",
            "Masukkan bilangan ketiga: 9\n",
            "Jumlah = 18\n"
          ]
        }
      ]
    },
    {
      "cell_type": "markdown",
      "source": [
        "Praktikum 1. Menghitung Luas Balok"
      ],
      "metadata": {
        "id": "8n_3O0t3x8y2"
      }
    },
    {
      "cell_type": "code",
      "source": [
        "p = int(input(\"Masukkan panjang: \"))\n",
        "l = int(input(\"Masukkan lebar: \"))\n",
        "t = int(input(\"Masukkan tinggi: \"))\n",
        "volume = p * l * t\n",
        "print(\"Volume persegi panjang =\", volume)"
      ],
      "metadata": {
        "colab": {
          "base_uri": "https://localhost:8080/"
        },
        "id": "eqJEG2GWzWz_",
        "outputId": "a0799cf6-5d5b-429e-9135-d0e704cd0e11"
      },
      "execution_count": null,
      "outputs": [
        {
          "output_type": "stream",
          "name": "stdout",
          "text": [
            "Masukkan panjang: 8\n",
            "Masukkan lebar: 7\n",
            "Masukkan tinggi: 6\n",
            "Volume persegi panjang = 336\n"
          ]
        }
      ]
    },
    {
      "cell_type": "markdown",
      "source": [
        "Praktikum 2. Menghitung Konversi Waktu"
      ],
      "metadata": {
        "id": "ahW93wGM1Hfr"
      }
    },
    {
      "cell_type": "code",
      "source": [
        "jumlah_detik = int(input(\"Masukkan waktu dalam detik: \"))\n",
        "\n",
        "jam = jumlah_detik // 3600\n",
        "sisa_detik = jumlah_detik % 3600\n",
        "menit = sisa_detik // 60\n",
        "detik = sisa_detik % 60\n",
        "\n",
        "print(f\"{jam} jam, {menit} menit, {detik} detik\")"
      ],
      "metadata": {
        "colab": {
          "base_uri": "https://localhost:8080/"
        },
        "id": "rt4HuyHD1PEQ",
        "outputId": "dbc08e44-16be-44f2-e770-d5dcda350007"
      },
      "execution_count": null,
      "outputs": [
        {
          "output_type": "stream",
          "name": "stdout",
          "text": [
            "Masukkan waktu dalam detik: 6732\n",
            "1 jam, 52 menit, 12 detik\n"
          ]
        }
      ]
    },
    {
      "cell_type": "markdown",
      "source": [
        "Praktikum 3. Menghitung rata-rata dilai 3 mata kuliah"
      ],
      "metadata": {
        "id": "v93U8RSH5Kwc"
      }
    },
    {
      "cell_type": "code",
      "source": [
        "a = float(input(\"Masukkan nilai mata kuliah 1\"))\n",
        "b = float(input(\"Masukkan nilai mata kuliah 2\"))\n",
        "c = float(input(\"Masukkan nilai mata kuliah 3\"))\n",
        "rata_rata = (a + b + c) / 3\n",
        "print(\"rata_rata =\", rata_rata)\n",
        "if rata_rata <= 60:\n",
        "  print(\"Tidak Lulus\")\n",
        "if rata_rata >= 60:\n",
        "  print(\"Lulus\")"
      ],
      "metadata": {
        "colab": {
          "base_uri": "https://localhost:8080/"
        },
        "id": "MxFMsbXi5TuH",
        "outputId": "1b18df6a-1ae4-42b0-a5c5-04fc035740ee"
      },
      "execution_count": null,
      "outputs": [
        {
          "output_type": "stream",
          "name": "stdout",
          "text": [
            "Masukkan nilai mata kuliah 170\n",
            "Masukkan nilai mata kuliah 290\n",
            "Masukkan nilai mata kuliah 360\n",
            "rata_rata = 73.33333333333333\n",
            "Lulus\n"
          ]
        }
      ]
    },
    {
      "cell_type": "markdown",
      "source": [
        "Praktikum 4. Menentukan diskon belanja"
      ],
      "metadata": {
        "id": "fsYjG2aN-fRZ"
      }
    },
    {
      "cell_type": "code",
      "source": [
        "total_belanja=float(input(\"Masukkan total belanja:\" ))\n",
        "if total_belanja >= 500000:\n",
        "  diskon = total_belanja * 0.20\n",
        "elif total_belanja >= 250000:\n",
        "  diskon = total_belanja * 0.10\n",
        "else : diskon = 0\n",
        "total_bayar = total_belanja - diskon\n",
        "print(\"Total bayar setelah diskon =\", total_bayar)"
      ],
      "metadata": {
        "colab": {
          "base_uri": "https://localhost:8080/"
        },
        "id": "apN57utF-m9V",
        "outputId": "73da9a02-6f4b-4249-c1bf-0aec0a58fb17"
      },
      "execution_count": null,
      "outputs": [
        {
          "output_type": "stream",
          "name": "stdout",
          "text": [
            "Masukkan total belanja:740000\n",
            "Total bayar setelah diskon = 592000.0\n"
          ]
        }
      ]
    }
  ]
}